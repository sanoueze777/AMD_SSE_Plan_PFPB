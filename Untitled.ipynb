{
 "cells": [
  {
   "cell_type": "code",
   "execution_count": 1,
   "id": "ea9b41ff-f60b-4fdf-ba83-bb10a3b40b78",
   "metadata": {
    "tags": []
   },
   "outputs": [
    {
     "name": "stdout",
     "output_type": "stream",
     "text": [
      "2.6.0\n"
     ]
    }
   ],
   "source": [
    "import sqlite3\n",
    "from sqlite3 import Error\n",
    "\n",
    "\n",
    "def create_connection(db_file):\n",
    "    \"\"\" create a database connection to a SQLite database \"\"\"\n",
    "    conn = None\n",
    "    try:\n",
    "        conn = sqlite3.connect(db_file)\n",
    "        print(sqlite3.version)\n",
    "    except Error as e:\n",
    "        print(e)\n",
    "    finally:\n",
    "        if conn:\n",
    "            conn.close()\n",
    "\n",
    "\n",
    "\n",
    "create_connection(\"amd_sse.db\")"
   ]
  },
  {
   "cell_type": "code",
   "execution_count": 32,
   "id": "f0e875c6-2f5f-4b1d-be9a-76b108827020",
   "metadata": {},
   "outputs": [],
   "source": [
    "conn.close()"
   ]
  },
  {
   "cell_type": "code",
   "execution_count": 2,
   "id": "fe36a612-e8f5-4da9-9c71-9c6657240b96",
   "metadata": {},
   "outputs": [],
   "source": [
    "def create_connection(db_file):\n",
    "    \"\"\" create a database connection to the SQLite database\n",
    "        specified by db_file\n",
    "    :param db_file: database file\n",
    "    :return: Connection object or None\n",
    "    \"\"\"\n",
    "    conn = None\n",
    "    try:\n",
    "        conn = sqlite3.connect(db_file)\n",
    "        return conn\n",
    "    except Error as e:\n",
    "        print(e)\n",
    "\n",
    "    return conn"
   ]
  },
  {
   "cell_type": "code",
   "execution_count": 3,
   "id": "9caeec7f-9a16-47b3-922f-c11e201d8db9",
   "metadata": {},
   "outputs": [],
   "source": [
    "def create_table(conn, create_table_sql):\n",
    "    \"\"\" create a table from the create_table_sql statement\n",
    "    :param conn: Connection object\n",
    "    :param create_table_sql: a CREATE TABLE statement\n",
    "    :return:\n",
    "    \"\"\"\n",
    "    try:\n",
    "        c = conn.cursor()\n",
    "        c.execute(create_table_sql)\n",
    "    except Error as e:\n",
    "        print(e)"
   ]
  },
  {
   "cell_type": "code",
   "execution_count": 7,
   "id": "48672975-534e-4d82-a9bc-f35b49e3c43e",
   "metadata": {},
   "outputs": [],
   "source": [
    "def alter_table(conn, alter_table_sql):\n",
    "    \"\"\" create a table from the create_table_sql statement\n",
    "    :param conn: Connection object\n",
    "    :param create_table_sql: a CREATE TABLE statement\n",
    "    :return:\n",
    "    \"\"\"\n",
    "    try:\n",
    "        c = conn.cursor()\n",
    "        c.execute(alter_table_sql)\n",
    "    except Error as e:\n",
    "        print(e)"
   ]
  },
  {
   "cell_type": "code",
   "execution_count": 12,
   "id": "453dae0c-f2c6-478b-b319-a5e02acfdb4c",
   "metadata": {},
   "outputs": [],
   "source": [
    "def main():\n",
    "    database = \"amd_sse.db\"\n",
    "    '''\n",
    "        sql_create_projects_table = \"\"\" CREATE TABLE IF NOT EXISTS Mission_executee (\n",
    "                                            id integer PRIMARY KEY,\n",
    "                                            mission text NOT NULL,\n",
    "                                            date_derniere_action text,\n",
    "                                            champ_activite_derniere_action text,\n",
    "                                            Volume_travail_total INTEGER NOT NULL\n",
    "                                        ); \"\"\"\n",
    "\n",
    "        sql_create_tasks_table = \"\"\"CREATE TABLE IF NOT EXISTS Mission_planfiee (\n",
    "                                        id integer PRIMARY KEY,\n",
    "                                        mission NOT NULL,\n",
    "                                        Date_debut text,\n",
    "                                        date_fin text,\n",
    "                                        experts_concernes text,\n",
    "                                        champs_activites_programmes text\n",
    "                                    );\"\"\"\n",
    "    '''\n",
    "    sql_create_tasks_table = \"\"\"ALTER TABLE Expert_activite ADD nom text\"\"\"\n",
    "    # create a database connection\n",
    "    conn = create_connection(database)\n",
    "\n",
    "    # create tables\n",
    "    if conn is not None:\n",
    "        # create projects table\n",
    "        alter_table(conn, sql_create_tasks_table)\n",
    "\n",
    "        # create tasks table\n",
    "#        create_table(conn, sql_create_tasks_table)\n",
    "    else:\n",
    "        print(\"Error! cannot create the database connection.\")\n"
   ]
  },
  {
   "cell_type": "code",
   "execution_count": 13,
   "id": "59a365ae-4109-41d1-b57d-d47088cfebe3",
   "metadata": {},
   "outputs": [],
   "source": [
    "main()"
   ]
  },
  {
   "cell_type": "code",
   "execution_count": 21,
   "id": "73470882-31e6-4152-9a68-045cffa0728c",
   "metadata": {},
   "outputs": [
    {
     "name": "stdout",
     "output_type": "stream",
     "text": [
      "2.6.0\n"
     ]
    },
    {
     "data": {
      "text/plain": [
       "<sqlite3.Cursor at 0x222cd3128f0>"
      ]
     },
     "execution_count": 22,
     "metadata": {},
     "output_type": "execute_result"
    }
   ],
   "source": [
    "conn = None\n",
    "sql_create_projects_table = \"\"\" CREATE TABLE IF NOT EXISTS Action_executee (\n",
    "                                    id integer PRIMARY KEY,\n",
    "                                        expert text NOT NULL,\n",
    "                                        date text,\n",
    "                                        mission text,\n",
    "                                        champ_activites text,\n",
    "                                        temps_travail INNTEGER NOT NULL,\n",
    "                                        lieu text\n",
    "                                    ); \"\"\"\n",
    "    \n",
    "    \n",
    "    \n",
    "    \n",
    "try:\n",
    "    conn = sqlite3.connect(\"amd_sse.db\")\n",
    "    print(sqlite3.version)\n",
    "except Error as e:\n",
    "    print(e)\n",
    "\n",
    "sql = \"DROP TABLE Action_executee\"\n",
    "c = conn.cursor()\n",
    "c.execute(sql)"
   ]
  },
  {
   "cell_type": "code",
   "execution_count": null,
   "id": "317f866f-12bf-4bd5-a358-55a4b2497366",
   "metadata": {},
   "outputs": [],
   "source": []
  },
  {
   "cell_type": "code",
   "execution_count": 2,
   "id": "525cc75a-91db-48df-a6e2-aab89e4e1893",
   "metadata": {},
   "outputs": [
    {
     "name": "stdout",
     "output_type": "stream",
     "text": [
      "Salt :\n",
      "b'$2b$12$Rtb1tnugIpfmtBD.DTy9uO'\n",
      "Hashed\n",
      "b'$2b$12$Rtb1tnugIpfmtBD.DTy9uOvt3ILrDDIcFVzqT8WmC9GGtl753QUM6'\n"
     ]
    }
   ],
   "source": [
    "\n",
    "import bcrypt\n",
    " \n",
    "# Declaring our password\n",
    "password = b'GeekPassword'\n",
    " \n",
    "# Adding the salt to password\n",
    "salt = bcrypt.gensalt()\n",
    "# Hashing the password\n",
    "hashed = bcrypt.hashpw(password, salt)\n",
    " \n",
    "# printing the salt\n",
    "print(\"Salt :\")\n",
    "print(salt)\n",
    " \n",
    "# printing the hashed\n",
    "print(\"Hashed\")\n",
    "print(hashed)\n"
   ]
  }
 ],
 "metadata": {
  "kernelspec": {
   "display_name": "Python 3 (ipykernel)",
   "language": "python",
   "name": "python3"
  },
  "language_info": {
   "codemirror_mode": {
    "name": "ipython",
    "version": 3
   },
   "file_extension": ".py",
   "mimetype": "text/x-python",
   "name": "python",
   "nbconvert_exporter": "python",
   "pygments_lexer": "ipython3",
   "version": "3.9.12"
  }
 },
 "nbformat": 4,
 "nbformat_minor": 5
}
